{
 "cells": [
  {
   "cell_type": "markdown",
   "metadata": {},
   "source": [
    "# Training, Engineering, and Model Assesment"
   ]
  },
  {
   "cell_type": "markdown",
   "metadata": {},
   "source": [
    "## Import packages "
   ]
  },
  {
   "cell_type": "code",
   "execution_count": 1,
   "metadata": {},
   "outputs": [
    {
     "name": "stdout",
     "output_type": "stream",
     "text": [
      "Intel MKL WARNING: Support of Intel(R) Streaming SIMD Extensions 4.2 (Intel(R) SSE4.2) enabled only processors has been deprecated. Intel oneAPI Math Kernel Library 2025.0 will require Intel(R) Advanced Vector Extensions (Intel(R) AVX) instructions.\n",
      "Intel MKL WARNING: Support of Intel(R) Streaming SIMD Extensions 4.2 (Intel(R) SSE4.2) enabled only processors has been deprecated. Intel oneAPI Math Kernel Library 2025.0 will require Intel(R) Advanced Vector Extensions (Intel(R) AVX) instructions.\n"
     ]
    },
    {
     "name": "stderr",
     "output_type": "stream",
     "text": [
      "2025-03-20 01:09:37.292034: I tensorflow/core/platform/cpu_feature_guard.cc:193] This TensorFlow binary is optimized with oneAPI Deep Neural Network Library (oneDNN) to use the following CPU instructions in performance-critical operations:  SSE4.1 SSE4.2\n",
      "To enable them in other operations, rebuild TensorFlow with the appropriate compiler flags.\n"
     ]
    }
   ],
   "source": [
    "# general\n",
    "import numpy as np\n",
    "import pandas as pd\n",
    "import matplotlib.pyplot as plt\n",
    "import time\n",
    "\n",
    "# sklearn\n",
    "from sklearn.model_selection import train_test_split\n",
    "from sklearn.preprocessing import StandardScaler\n",
    "\n",
    "# keras/tensorflow\n",
    "import tensorflow as tf\n",
    "from tensorflow import keras\n",
    "from tensorflow.keras import layers, models, optimizers\n",
    "from tensorflow.keras.callbacks import EarlyStopping, ModelCheckpoint\n",
    "import tensorflow.keras.backend as K\n",
    "import keras_tuner as kt\n",
    "from tensorflow.keras.backend import clear_session\n",
    "\n",
    "\n",
    "# plotting\n",
    "import matplotlib.pyplot as plt\n",
    "import seaborn as sns"
   ]
  },
  {
   "cell_type": "markdown",
   "metadata": {},
   "source": [
    "## Import Data"
   ]
  },
  {
   "cell_type": "code",
   "execution_count": 2,
   "metadata": {},
   "outputs": [],
   "source": [
    "# set target (what are we trying to predict)\n",
    "target = 'pwt_500hpa'\n",
    "#target = 'temperature_800hpa'\n",
    "# set lists of coordinates and time ranges (pulled from Prepare_AI_Ready_Data.py)\n",
    "coords = [[180,240,45,65],[130,250,20,75]]\n",
    "times = [['1940-01-01','2023-12-31']]  # Ensure the time range is valid\n",
    "\n",
    "# set PC option - seperate or combined\n",
    "#PC_option = 'combined'\n",
    "PC_option = 'seperate'\n",
    "\n",
    "# select which of the list I want to load\n",
    "coords_num = 1\n",
    "times_num = 0\n",
    "\n",
    "# pull the correct coordinate and time (as set above)\n",
    "c = coords[coords_num]\n",
    "t = times[times_num]\n",
    "\n",
    "# read in PCs\n",
    "if PC_option == 'combined':\n",
    "    raw_data = pd.read_csv(f'../data/dimensionality_reduction/principal_components_combined_{c[0]}-{c[1]}_{c[2]}-{c[3]}_{t[0][:4]}-{t[1][:4]}_target.csv')\n",
    "elif PC_option == 'seperate':\n",
    "    raw_data = pd.read_csv(f'../data/dimensionality_reduction/principal_components_seperate_{c[0]}-{c[1]}_{c[2]}-{c[3]}_{t[0][:4]}-{t[1][:4]}_target.csv')\n",
    "\n",
    "# Keep only columns that are target, contain \"PC\", or contain \"month\"\n",
    "#columns_to_keep = [col for col in raw_data.columns if target in col or \"PC\" in col or \"month\" in col]\n",
    "columns_to_keep = [col for col in raw_data.columns if target in col or \"PC\" in col]\n",
    "data = raw_data[columns_to_keep]\n",
    "\n",
    "# normalize all input data to have values between 0 and 1, but keep as a df\n",
    "scaler = StandardScaler()\n",
    "data = pd.DataFrame(scaler.fit_transform(data), columns=data.columns)"
   ]
  },
  {
   "cell_type": "code",
   "execution_count": 3,
   "metadata": {},
   "outputs": [],
   "source": [
    "# Prep data from ML\n",
    "\n",
    "# Splitting the data into features X and label y\n",
    "y = data[target].values  # e.g., binary classification label\n",
    "X = data.drop(columns=[target]).values\n",
    "# get names of features\n",
    "feature_names = data.drop(columns=[target]).columns\n",
    "\n",
    "\n",
    "# 70% training, 15% validation, 15% test\n",
    "X_temp, X_test, y_temp, y_test = train_test_split(X, y, \n",
    "                                                  test_size=0.15, \n",
    "                                                  random_state=42)\n",
    "X_train, X_val, y_train, y_val = train_test_split(X_temp, y_temp, \n",
    "                                                  test_size=0.1765,  # 0.1765 of 0.85 ~ 0.15\n",
    "                                                  random_state=42)\n",
    "\n",
    "X_train_cnn = X_train.reshape((X_train.shape[0], X_train.shape[1], 1))\n",
    "X_val_cnn = X_val.reshape((X_val.shape[0], X_val.shape[1], 1))\n",
    "X_test_cnn = X_test.reshape((X_test.shape[0], X_test.shape[1], 1))\n",
    "# X_train_cnn = X_train\n",
    "# X_val_cnn = X_val\n",
    "# X_test_cnn = X_test"
   ]
  },
  {
   "cell_type": "markdown",
   "metadata": {},
   "source": [
    "## Hyperparameter Tuning"
   ]
  },
  {
   "cell_type": "code",
   "execution_count": 4,
   "metadata": {},
   "outputs": [],
   "source": [
    "def build_fcn_model(hp):\n",
    "    \"\"\"\n",
    "    Builds a Fully Convolutional Network for time-series regression.\n",
    "\n",
    "    Args:\n",
    "        hp (HyperParameters): Hyperparameter object from Keras Tuner\n",
    "\n",
    "    Returns:\n",
    "        A compiled Keras model.\n",
    "    \"\"\"\n",
    "\n",
    "    model = keras.Sequential(name=\"fcn_regression\")\n",
    "\n",
    "    # -- 1) Conv Block 1 --------------------------------------------\n",
    "    model.add(layers.Conv1D(\n",
    "        filters=hp.Int('conv1_filters', min_value=16, max_value=128, step=16),\n",
    "        kernel_size=hp.Choice('conv1_kernel_size', values=[3, 5, 7]),\n",
    "        padding='same',\n",
    "        activation=None,  \n",
    "        input_shape=(X_train_cnn.shape[1], X_train_cnn.shape[2])\n",
    "    ))\n",
    "    model.add(layers.BatchNormalization())\n",
    "    model.add(layers.Activation('relu'))\n",
    "\n",
    "    # -- 2) Conv Block 2 --------------------------------------------\n",
    "    model.add(layers.Conv1D(\n",
    "        filters=hp.Int('conv2_filters', min_value=16, max_value=128, step=16),\n",
    "        kernel_size=hp.Choice('conv2_kernel_size', values=[3, 5, 7]),\n",
    "        padding='same',\n",
    "        activation=None\n",
    "    ))\n",
    "    model.add(layers.BatchNormalization())\n",
    "    model.add(layers.Activation('relu'))\n",
    "\n",
    "    # -- 3) Conv Block 3 --------------------------------------------\n",
    "    model.add(layers.Conv1D(\n",
    "        filters=hp.Int('conv3_filters', min_value=16, max_value=128, step=16),\n",
    "        kernel_size=hp.Choice('conv3_kernel_size', values=[3, 5, 7]),\n",
    "        padding='same',\n",
    "        activation=None\n",
    "    ))\n",
    "    model.add(layers.BatchNormalization())\n",
    "    model.add(layers.Activation('relu'))\n",
    "\n",
    "    # -- 4) Global Average Pooling ----------------------------------\n",
    "    model.add(layers.GlobalAveragePooling1D())\n",
    "\n",
    "    # -- 5) Optional Dropout after GAP ------------------------------\n",
    "    if hp.Boolean('use_dropout'):\n",
    "        model.add(layers.Dropout(\n",
    "            rate=hp.Float('dropout_rate', min_value=0.1, max_value=0.5, step=0.1)\n",
    "        ))\n",
    "\n",
    "    # -- 6) Output layer for regression -----------------------------\n",
    "    model.add(layers.Dense(1, activation='linear'))\n",
    "\n",
    "    # -- 7) Compile -------------------------------------------------\n",
    "    learning_rate = hp.Choice('learning_rate', values=[1e-3, 5e-4, 1e-4])\n",
    "    model.compile(\n",
    "        optimizer=keras.optimizers.Adam(learning_rate=learning_rate),\n",
    "        loss='mse',\n",
    "        metrics=['mae']\n",
    "    )\n",
    "\n",
    "    return model\n",
    "\n"
   ]
  },
  {
   "cell_type": "code",
   "execution_count": 5,
   "metadata": {},
   "outputs": [
    {
     "name": "stderr",
     "output_type": "stream",
     "text": [
      "2025-03-20 01:09:43.720317: I tensorflow/core/platform/cpu_feature_guard.cc:193] This TensorFlow binary is optimized with oneAPI Deep Neural Network Library (oneDNN) to use the following CPU instructions in performance-critical operations:  SSE4.1 SSE4.2\n",
      "To enable them in other operations, rebuild TensorFlow with the appropriate compiler flags.\n"
     ]
    }
   ],
   "source": [
    "timesteps = X_train_cnn.shape[0]\n",
    "\n",
    "tuner = kt.RandomSearch(\n",
    "    build_fcn_model,\n",
    "    objective=\"val_loss\",             # or \"val_mae\", etc.\n",
    "    max_trials=10,                    # number of different configs to try\n",
    "    executions_per_trial=1,           # run each model once per trial\n",
    "    directory=\"my_dir\",\n",
    "    project_name=\"1d_fcn_regression\"\n",
    ")"
   ]
  },
  {
   "cell_type": "code",
   "execution_count": 6,
   "metadata": {},
   "outputs": [
    {
     "name": "stdout",
     "output_type": "stream",
     "text": [
      "Trial 10 Complete [00h 00m 07s]\n",
      "val_loss: 0.7212669253349304\n",
      "\n",
      "Best val_loss So Far: 0.7212669253349304\n",
      "Total elapsed time: 00h 00m 51s\n"
     ]
    }
   ],
   "source": [
    "\n",
    "# Perform hyperparameter tuning\n",
    "tuner.search(\n",
    "    X_train, \n",
    "    y_train, \n",
    "    epochs=20,\n",
    "    batch_size=32,\n",
    "    validation_data=(X_val, y_val),\n",
    "    verbose=1\n",
    ")"
   ]
  },
  {
   "cell_type": "code",
   "execution_count": 7,
   "metadata": {},
   "outputs": [
    {
     "name": "stdout",
     "output_type": "stream",
     "text": [
      "Epoch 1/40\n",
      "14/14 [==============================] - 2s 33ms/step - loss: 1.2375 - mae: 0.8705 - val_loss: 0.8316 - val_mae: 0.6695\n",
      "Epoch 2/40\n",
      "14/14 [==============================] - 0s 16ms/step - loss: 1.0729 - mae: 0.8191 - val_loss: 0.8198 - val_mae: 0.6765\n",
      "Epoch 3/40\n",
      "14/14 [==============================] - 0s 17ms/step - loss: 1.0326 - mae: 0.8050 - val_loss: 0.8219 - val_mae: 0.6819\n",
      "Epoch 4/40\n",
      "14/14 [==============================] - 0s 16ms/step - loss: 0.9754 - mae: 0.7721 - val_loss: 0.8242 - val_mae: 0.6702\n",
      "Epoch 5/40\n",
      "14/14 [==============================] - 0s 18ms/step - loss: 0.8618 - mae: 0.7138 - val_loss: 0.8074 - val_mae: 0.6630\n",
      "Epoch 6/40\n",
      "14/14 [==============================] - 0s 16ms/step - loss: 0.7840 - mae: 0.7072 - val_loss: 0.7934 - val_mae: 0.6607\n",
      "Epoch 7/40\n",
      "14/14 [==============================] - 0s 15ms/step - loss: 0.7308 - mae: 0.6784 - val_loss: 0.8436 - val_mae: 0.6729\n",
      "Epoch 8/40\n",
      "14/14 [==============================] - 0s 17ms/step - loss: 0.7548 - mae: 0.6825 - val_loss: 0.9167 - val_mae: 0.7242\n",
      "Epoch 9/40\n",
      "14/14 [==============================] - 0s 18ms/step - loss: 0.6898 - mae: 0.6477 - val_loss: 0.8643 - val_mae: 0.6892\n",
      "Epoch 10/40\n",
      "14/14 [==============================] - 0s 20ms/step - loss: 0.6744 - mae: 0.6401 - val_loss: 0.8245 - val_mae: 0.6685\n",
      "Epoch 11/40\n",
      "14/14 [==============================] - 0s 17ms/step - loss: 0.5768 - mae: 0.6010 - val_loss: 0.7894 - val_mae: 0.6515\n",
      "Epoch 12/40\n",
      "14/14 [==============================] - 0s 19ms/step - loss: 0.6043 - mae: 0.6196 - val_loss: 0.7832 - val_mae: 0.6548\n",
      "Epoch 13/40\n",
      "14/14 [==============================] - 0s 15ms/step - loss: 0.5709 - mae: 0.5816 - val_loss: 0.8037 - val_mae: 0.6584\n",
      "Epoch 14/40\n",
      "14/14 [==============================] - 0s 18ms/step - loss: 0.5404 - mae: 0.5832 - val_loss: 0.8210 - val_mae: 0.7013\n",
      "Epoch 15/40\n",
      "14/14 [==============================] - 0s 16ms/step - loss: 0.6237 - mae: 0.6285 - val_loss: 0.7411 - val_mae: 0.6528\n",
      "Epoch 16/40\n",
      "14/14 [==============================] - 0s 15ms/step - loss: 0.5443 - mae: 0.5737 - val_loss: 0.7459 - val_mae: 0.6510\n",
      "Epoch 17/40\n",
      "14/14 [==============================] - 0s 16ms/step - loss: 0.5219 - mae: 0.5607 - val_loss: 0.7349 - val_mae: 0.6525\n",
      "Epoch 18/40\n",
      "14/14 [==============================] - 0s 15ms/step - loss: 0.4782 - mae: 0.5384 - val_loss: 0.7379 - val_mae: 0.6576\n",
      "Epoch 19/40\n",
      "14/14 [==============================] - 0s 16ms/step - loss: 0.4960 - mae: 0.5673 - val_loss: 0.9140 - val_mae: 0.7303\n",
      "Epoch 20/40\n",
      "14/14 [==============================] - 0s 17ms/step - loss: 0.4125 - mae: 0.5052 - val_loss: 0.7627 - val_mae: 0.6667\n",
      "Epoch 21/40\n",
      "14/14 [==============================] - 0s 19ms/step - loss: 0.4350 - mae: 0.5250 - val_loss: 0.8449 - val_mae: 0.6890\n",
      "Epoch 22/40\n",
      "14/14 [==============================] - 0s 16ms/step - loss: 0.4643 - mae: 0.5387 - val_loss: 0.7868 - val_mae: 0.6831\n",
      "Epoch 23/40\n",
      "14/14 [==============================] - 0s 16ms/step - loss: 0.4297 - mae: 0.5218 - val_loss: 0.8575 - val_mae: 0.7328\n",
      "Epoch 24/40\n",
      "14/14 [==============================] - 0s 21ms/step - loss: 0.3715 - mae: 0.4810 - val_loss: 0.7737 - val_mae: 0.6875\n",
      "Epoch 25/40\n",
      "14/14 [==============================] - 0s 20ms/step - loss: 0.3564 - mae: 0.4686 - val_loss: 0.7857 - val_mae: 0.6915\n",
      "Epoch 26/40\n",
      "14/14 [==============================] - 0s 15ms/step - loss: 0.3307 - mae: 0.4539 - val_loss: 0.9286 - val_mae: 0.7553\n",
      "Epoch 27/40\n",
      "14/14 [==============================] - 0s 16ms/step - loss: 0.3648 - mae: 0.4794 - val_loss: 0.8600 - val_mae: 0.7186\n",
      "Epoch 28/40\n",
      "14/14 [==============================] - 0s 18ms/step - loss: 0.3506 - mae: 0.4742 - val_loss: 1.0508 - val_mae: 0.8005\n",
      "Epoch 29/40\n",
      "14/14 [==============================] - 0s 16ms/step - loss: 0.3484 - mae: 0.4622 - val_loss: 0.8888 - val_mae: 0.7404\n",
      "Epoch 30/40\n",
      "14/14 [==============================] - 0s 18ms/step - loss: 0.3316 - mae: 0.4521 - val_loss: 0.9340 - val_mae: 0.7748\n",
      "Epoch 31/40\n",
      "14/14 [==============================] - 0s 17ms/step - loss: 0.3411 - mae: 0.4609 - val_loss: 0.7730 - val_mae: 0.6855\n",
      "Epoch 32/40\n",
      "14/14 [==============================] - 0s 19ms/step - loss: 0.3673 - mae: 0.4729 - val_loss: 0.7947 - val_mae: 0.6970\n",
      "Epoch 33/40\n",
      "14/14 [==============================] - 0s 19ms/step - loss: 0.3210 - mae: 0.4405 - val_loss: 0.7940 - val_mae: 0.7067\n",
      "Epoch 34/40\n",
      "14/14 [==============================] - 0s 18ms/step - loss: 0.3498 - mae: 0.4709 - val_loss: 0.8597 - val_mae: 0.7384\n",
      "Epoch 35/40\n",
      "14/14 [==============================] - 0s 17ms/step - loss: 0.2397 - mae: 0.3927 - val_loss: 1.0288 - val_mae: 0.8159\n",
      "Epoch 36/40\n",
      "14/14 [==============================] - 0s 26ms/step - loss: 0.2597 - mae: 0.4089 - val_loss: 0.8642 - val_mae: 0.7303\n",
      "Epoch 37/40\n",
      "14/14 [==============================] - 0s 18ms/step - loss: 0.2592 - mae: 0.4020 - val_loss: 0.8084 - val_mae: 0.7083\n",
      "Epoch 38/40\n",
      "14/14 [==============================] - 0s 16ms/step - loss: 0.2355 - mae: 0.3906 - val_loss: 1.2258 - val_mae: 0.8989\n",
      "Epoch 39/40\n",
      "14/14 [==============================] - 0s 17ms/step - loss: 0.2675 - mae: 0.4114 - val_loss: 1.4879 - val_mae: 0.9627\n",
      "Epoch 40/40\n",
      "14/14 [==============================] - 0s 18ms/step - loss: 0.2293 - mae: 0.3835 - val_loss: 1.1273 - val_mae: 0.8349\n"
     ]
    },
    {
     "data": {
      "image/png": "[encoded data removed]",
      "text/plain": [
       "<Figure size 800x600 with 1 Axes>"
      ]
     },
     "metadata": {},
     "output_type": "display_data"
    },
    {
     "name": "stdout",
     "output_type": "stream",
     "text": [
      "Test Loss: 1.3491753339767456\n",
      "Test MAE:  0.944368302822113\n",
      "3/3 [==============================] - 0s 6ms/step\n",
      "Intel MKL WARNING: Support of Intel(R) Streaming SIMD Extensions 4.2 (Intel(R) SSE4.2) enabled only processors has been deprecated. Intel oneAPI Math Kernel Library 2025.0 will require Intel(R) Advanced Vector Extensions (Intel(R) AVX) instructions.\n",
      "Test R^2: 0.046879746499308816\n"
     ]
    }
   ],
   "source": [
    "# Retrieve the best model\n",
    "best_hps = tuner.get_best_hyperparameters(num_trials=1)[0]\n",
    "best_model = tuner.hypermodel.build(best_hps)\n",
    "\n",
    "# Train the best model on the full training set (optionally combine train+val)\n",
    "history = best_model.fit(\n",
    "    X_train_cnn, y_train,\n",
    "    epochs=40,\n",
    "    validation_data=(X_val_cnn, y_val)\n",
    ")\n",
    "\n",
    "# Store the MAE values for each epoch\n",
    "mae = history.history['mae']\n",
    "val_mae = history.history['val_mae']\n",
    "\n",
    "# Plot MAE as a function of epoch\n",
    "plt.figure(figsize=(8, 6))\n",
    "plt.plot(mae, label='Training MAE')\n",
    "plt.plot(val_mae, label='Validation MAE')\n",
    "plt.xlabel('Epoch')\n",
    "plt.ylabel('Mean Absolute Error (MAE)')\n",
    "plt.title('MAE vs. Epoch')\n",
    "plt.legend()\n",
    "plt.grid(True)\n",
    "plt.show()\n",
    "\n",
    "# Evaluate on the test set\n",
    "test_loss, test_mae = best_model.evaluate(X_test_cnn, y_test, verbose=0)\n",
    "print(\"Test Loss:\", test_loss)\n",
    "print(\"Test MAE: \", test_mae)\n",
    "\n",
    "# compute r^2 on the test set\n",
    "y_pred = best_model.predict(X_test_cnn)\n",
    "r2 = np.corrcoef(y_test, y_pred[:,0])[0,1]**2\n",
    "print(\"Test R^2:\", r2)"
   ]
  },
  {
   "cell_type": "markdown",
   "metadata": {},
   "source": [
    "## Define Model"
   ]
  }
 ],
 "metadata": {
  "kernelspec": {
   "display_name": "ess469_final",
   "language": "python",
   "name": "python3"
  },
  "language_info": {
   "codemirror_mode": {
    "name": "ipython",
    "version": 3
   },
   "file_extension": ".py",
   "mimetype": "text/x-python",
   "name": "python",
   "nbconvert_exporter": "python",
   "pygments_lexer": "ipython3",
   "version": "3.10.16"
  }
 },
 "nbformat": 4,
 "nbformat_minor": 2
}
